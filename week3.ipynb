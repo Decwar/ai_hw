{
 "cells": [
  {
   "cell_type": "markdown",
   "metadata": {},
   "source": [
    "## Theory Questions"
   ]
  },
  {
   "cell_type": "markdown",
   "metadata": {},
   "source": [
    "#### 1"
   ]
  },
  {
   "cell_type": "markdown",
   "metadata": {},
   "source": [
    "\n",
    "- The start conditions \n",
    "-- I want to watch a movie\n",
    "- Roles (people/actors involved) \n",
    "--watcher, ticket seller etc \n",
    "- Equipment required (\"props\")\n",
    "--seats, ticket, popcorn, drinks\n",
    "- The scenes \n",
    "-- scene 1 - buy ticket \n",
    "-- scene 2 - buy some popcorn and drinks\n",
    "-- scene 3 - check the ticket\n",
    "-- scene 4 - find seats\n",
    "- Results/outcomes\n",
    "-- watch the movie successfully"
   ]
  },
  {
   "cell_type": "markdown",
   "metadata": {},
   "source": [
    "#### 2"
   ]
  },
  {
   "cell_type": "markdown",
   "metadata": {},
   "source": [
    "- First\n",
    "-- The farmer takes the duck to right side\n",
    "- Second\n",
    "-- The farmer comes back alone\n",
    "- Third\n",
    "-- The farmer takes the wolf to right side\n",
    "- Forth \n",
    "-- The farmer takes duck back\n",
    "- Fifth\n",
    "-- The farmer takes the corn to right side\n",
    "- Sixth\n",
    "-- The farmer comes back alone\n",
    "- Seventh\n",
    "-- The farmer takes the duck to right side"
   ]
  },
  {
   "cell_type": "markdown",
   "metadata": {},
   "source": [
    "#### 3"
   ]
  },
  {
   "cell_type": "markdown",
   "metadata": {},
   "source": [
    "- Goal formulation\n",
    "-- based on the current situation and the agent's performance measure, is the first step in problem solving. \n",
    "- Problem formulation\n",
    "-- is the process of deciding what actions and states to consider, given a goal. \n",
    "- Before reach a goal, it needs to decide what sorts of actions and states it should consider. If it were to consider actions at the level of \"move the left foot forward an inch\" or \"turn the steering wheel one degree left,\" the agent would probably never find its way out, because there was too much uncertainty and there would be too many steps in a solution. "
   ]
  },
  {
   "cell_type": "markdown",
   "metadata": {},
   "source": [
    "#### 4"
   ]
  },
  {
   "cell_type": "markdown",
   "metadata": {},
   "source": [
    "###### BFS\n",
    "- A\n",
    "- A-B\n",
    "- B-C\n",
    "- B-D\n",
    "- C-E\n",
    "- C-F\n",
    "- D-G\n",
    "- D-H\n",
    "- H-I\n",
    "- H-K Find it!"
   ]
  },
  {
   "cell_type": "markdown",
   "metadata": {},
   "source": [
    "###### DFS\n",
    "- A\n",
    "- A-B\n",
    "- A-B-C\n",
    "- A-B-C-E\n",
    "- A-B-C-F\n",
    "- A-B-D\n",
    "- A-B-D-H\n",
    "- A-B-D-H-I Find it!\n",
    "- (A-B-D-H-K)\n",
    "- (A-B-D-G)"
   ]
  },
  {
   "cell_type": "markdown",
   "metadata": {},
   "source": [
    "#### 5"
   ]
  },
  {
   "cell_type": "markdown",
   "metadata": {},
   "source": [
    "###### a."
   ]
  },
  {
   "cell_type": "markdown",
   "metadata": {},
   "source": [
    "![a.](01.png)"
   ]
  },
  {
   "cell_type": "markdown",
   "metadata": {},
   "source": [
    "###### b."
   ]
  },
  {
   "cell_type": "markdown",
   "metadata": {},
   "source": [
    "BFS: "
   ]
  },
  {
   "cell_type": "markdown",
   "metadata": {},
   "source": [
    "- 1\n",
    "- 1-2\n",
    "- 1-3\n",
    "- 2-4\n",
    "- 2-5\n",
    "- 3-6\n",
    "- 3-7\n",
    "- 4-8\n",
    "- 4-9\n",
    "- 5-10\n",
    "- 5-11 \n",
    "find it!"
   ]
  },
  {
   "cell_type": "markdown",
   "metadata": {},
   "source": [
    "DFS (LIMIT 3):"
   ]
  },
  {
   "cell_type": "markdown",
   "metadata": {},
   "source": [
    "- 1\n",
    "- 1-2\n",
    "- 2-4\n",
    "- 4-8\n",
    "- 4-9\n",
    "- 5-10\n",
    "- 5-11\n",
    "find it!\n"
   ]
  },
  {
   "cell_type": "markdown",
   "metadata": {},
   "source": [
    "IDS:"
   ]
  },
  {
   "cell_type": "markdown",
   "metadata": {},
   "source": [
    "- 1\n",
    "- 1-2\n",
    "- 1-3\n",
    "- 1-2-4\n",
    "- 1-2-5\n",
    "- 1-3-6\n",
    "- 1-3-7\n",
    "- 1-2-4-8\n",
    "- 1-2-4-9\n",
    "- 1-2-5-10\n",
    "- 1-2-5-11 find it!"
   ]
  },
  {
   "cell_type": "markdown",
   "metadata": {},
   "source": [
    "## Programming Exercises"
   ]
  },
  {
   "cell_type": "markdown",
   "metadata": {},
   "source": [
    "#### 1"
   ]
  },
  {
   "cell_type": "code",
   "execution_count": 21,
   "metadata": {},
   "outputs": [
    {
     "name": "stdout",
     "output_type": "stream",
     "text": [
      "23 chickens and 12 rabbits\n"
     ]
    }
   ],
   "source": [
    "legs = int(94)\n",
    "heads = int(35)\n",
    "for chickens in range(int(heads+1)):\n",
    "    int(chickens)\n",
    "    if (chickens*2+(heads-chickens)*4 == 94):\n",
    "        print(str(chickens) + \" chickens and \" + str(heads-chickens) + \" rabbits\")"
   ]
  },
  {
   "cell_type": "markdown",
   "metadata": {},
   "source": [
    "#### 2"
   ]
  },
  {
   "cell_type": "code",
   "execution_count": 12,
   "metadata": {},
   "outputs": [
    {
     "name": "stdout",
     "output_type": "stream",
     "text": [
      "thom\n"
     ]
    }
   ],
   "source": [
    "\n",
    "anuj = ['anuj',[]]\n",
    "peggy = ['peggy',[]]\n",
    "thom = ['thom',[]]\n",
    "jonny = ['jonnny',[]]\n",
    "bob = ['bob',[anuj,peggy]]\n",
    "alice = ['alice',[peggy]]\n",
    "claire = ['claire',[thom,jonny]]\n",
    "you = ['you',[bob,alice,claire]]\n",
    "for i in you[1]:\n",
    "    if((i[0])[-1] == \"m\"):\n",
    "        print(i[0])\n",
    "for i in you[1]:\n",
    "    for j in i[1]:\n",
    "        if(((j[0])[-1]) == \"m\"):\n",
    "            print(j[0])\n",
    "\n"
   ]
  },
  {
   "cell_type": "markdown",
   "metadata": {},
   "source": [
    "#### 4"
   ]
  },
  {
   "cell_type": "code",
   "execution_count": 18,
   "metadata": {},
   "outputs": [
    {
     "name": "stdout",
     "output_type": "stream",
     "text": [
      "AdbWinApi.dll\n",
      "AdbWinUsbApi.dll\n"
     ]
    }
   ],
   "source": [
    "import os\n",
    "root= \"c:\\\\Android\"\n",
    "for root, dirs, files in os.walk(root):\n",
    "    for i in dirs:\n",
    "        if(i[-4:] == \".dll\"):\n",
    "            print(i)\n",
    "    for i in files:\n",
    "        if(i[-4:] == '.dll'):\n",
    "            print(i)"
   ]
  },
  {
   "cell_type": "markdown",
   "metadata": {},
   "source": [
    "#### 3"
   ]
  },
  {
   "cell_type": "code",
   "execution_count": 46,
   "metadata": {},
   "outputs": [
    {
     "name": "stdout",
     "output_type": "stream",
     "text": [
      "c:\\Android\\AdbWinApi.dll\n",
      "c:\\Android\\AdbWinUsbApi.dll\n"
     ]
    }
   ],
   "source": [
    "import os\n",
    "\n",
    "root = \"c:\\\\Android\"\n",
    "mylist = []\n",
    "mylist.append(root)\n",
    "\n",
    "while len(mylist) != 0:\n",
    "\tpath = mylist.pop()\n",
    "\t##print(path)\n",
    "\tif os.path.isdir(path):\n",
    "\t\tfilelist = os.listdir(path)\n",
    "\t\tfor i in filelist:\n",
    "\t\t\t_path = path + \"\\\\\" + i\n",
    "\t\t\tif os.path.isdir(_path):\n",
    "\t\t\t\tmylist.append(_path)\n",
    "\t\t\telse:\n",
    "\t\t\t\tif(_path[-4:] == \".dll\"):\n",
    "\t\t\t\t\tprint(_path)\n",
    "\telse:\n",
    "\t\tif(path[-4:] == \".dll\"):\n",
    "\t\t\tprint(path)"
   ]
  },
  {
   "cell_type": "markdown",
   "metadata": {},
   "source": [
    "#### 5"
   ]
  },
  {
   "cell_type": "code",
   "execution_count": null,
   "metadata": {},
   "outputs": [],
   "source": []
  }
 ],
 "metadata": {
  "kernelspec": {
   "display_name": "Python 3",
   "language": "python",
   "name": "python3"
  },
  "language_info": {
   "codemirror_mode": {
    "name": "ipython",
    "version": 3
   },
   "file_extension": ".py",
   "mimetype": "text/x-python",
   "name": "python",
   "nbconvert_exporter": "python",
   "pygments_lexer": "ipython3",
   "version": "3.6.5"
  }
 },
 "nbformat": 4,
 "nbformat_minor": 2
}
