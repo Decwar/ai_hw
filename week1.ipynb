{
 "cells": [
  {
   "cell_type": "markdown",
   "metadata": {},
   "source": [
    "## Answer"
   ]
  },
  {
   "cell_type": "markdown",
   "metadata": {},
   "source": [
    "#### 1-3"
   ]
  },
  {
   "cell_type": "code",
   "execution_count": 13,
   "metadata": {},
   "outputs": [
    {
     "name": "stdout",
     "output_type": "stream",
     "text": [
      "I found it!\n",
      "['apple', 'pear', 'orange', 'pinapple', 'mandarin', 'bannana', 'kiwi']\n"
     ]
    }
   ],
   "source": [
    "fruits=['apple','pear','orange','pinapple','mandarin']\n",
    "for i in fruits:\n",
    "\tif (i == 'apple'):\n",
    "\t\tprint (\"I found it!\")\n",
    "fruits.extend(['bannana','kiwi'])\n",
    "print (fruits)\n"
   ]
  },
  {
   "cell_type": "markdown",
   "metadata": {},
   "source": [
    "#### 4"
   ]
  },
  {
   "cell_type": "code",
   "execution_count": 14,
   "metadata": {},
   "outputs": [
    {
     "name": "stdout",
     "output_type": "stream",
     "text": [
      "apple has 5 letters\n",
      "pear has 4 letters\n",
      "orange has 6 letters\n",
      "pinapple has 8 letters\n",
      "mandarin has 8 letters\n",
      "bannana has 7 letters\n",
      "kiwi has 4 letters\n"
     ]
    }
   ],
   "source": [
    "fruits_characters=[]\n",
    "for i in fruits:\n",
    "\tfruits_characters.append(len(i))\n",
    "for i in range(len(fruits)):\n",
    "\tprint (str(fruits[i]) + \" has \" + str(fruits_characters[i]) + \" letters\")"
   ]
  },
  {
   "cell_type": "markdown",
   "metadata": {},
   "source": [
    "#### 5"
   ]
  },
  {
   "cell_type": "code",
   "execution_count": 18,
   "metadata": {},
   "outputs": [],
   "source": [
    "def half_squared(origin):\n",
    "\tresults = []\n",
    "\tfor i in origin:\n",
    "\t\tresults.append(int(i)*int(i)/2)\n",
    "\treturn results"
   ]
  },
  {
   "cell_type": "code",
   "execution_count": 20,
   "metadata": {},
   "outputs": [
    {
     "data": {
      "text/plain": [
       "[4.5, 4.5]"
      ]
     },
     "execution_count": 20,
     "metadata": {},
     "output_type": "execute_result"
    }
   ],
   "source": [
    "half_squared([3,3])"
   ]
  },
  {
   "cell_type": "markdown",
   "metadata": {},
   "source": [
    "#### 6"
   ]
  },
  {
   "cell_type": "code",
   "execution_count": 24,
   "metadata": {},
   "outputs": [
    {
     "name": "stdout",
     "output_type": "stream",
     "text": [
      "please input the student scores: 60\n",
      "The grade is B\n"
     ]
    }
   ],
   "source": [
    "scores = int(input(\"please input the student scores: \"))\n",
    "if (scores>100 or scores<0):\n",
    "\tprint (\"Please input a correct number\")\n",
    "elif (scores >=90):\n",
    "\tprint (\"The grade is A\")\n",
    "elif (scores >=60):\n",
    "\tprint (\"The grade is B\")\n",
    "else:\n",
    "\tprint (\"The grade is C\")"
   ]
  },
  {
   "cell_type": "markdown",
   "metadata": {},
   "source": [
    "#### 7"
   ]
  },
  {
   "cell_type": "code",
   "execution_count": 27,
   "metadata": {},
   "outputs": [],
   "source": [
    "def revSort(a,b,c):\n",
    "\tif (a<b):\n",
    "\t\ta,b = b,a\n",
    "\tif (a<c):\n",
    "\t\ta,c = c,a\n",
    "\tif (b<c):\n",
    "\t\tb,c = c,b\n",
    "\treturn a,b,c"
   ]
  },
  {
   "cell_type": "code",
   "execution_count": 28,
   "metadata": {},
   "outputs": [
    {
     "data": {
      "text/plain": [
       "(32, 12, 4)"
      ]
     },
     "execution_count": 28,
     "metadata": {},
     "output_type": "execute_result"
    }
   ],
   "source": [
    "revSort(12,4,32)"
   ]
  },
  {
   "cell_type": "markdown",
   "metadata": {},
   "source": [
    "#### 8"
   ]
  },
  {
   "cell_type": "code",
   "execution_count": 38,
   "metadata": {},
   "outputs": [],
   "source": [
    "def traverse(arrs):\n",
    "\tfor i in arrs:\n",
    "\t\tfor j in i:\n",
    "\t\t\tprint (j, end=' ')\n",
    "\treturn"
   ]
  },
  {
   "cell_type": "code",
   "execution_count": 39,
   "metadata": {},
   "outputs": [
    {
     "name": "stdout",
     "output_type": "stream",
     "text": [
      "1 2 3 4 5 6 "
     ]
    }
   ],
   "source": [
    "traverse(arrs=[[1,2,3],[4,5,6]])"
   ]
  },
  {
   "cell_type": "markdown",
   "metadata": {},
   "source": [
    "#### 9"
   ]
  },
  {
   "cell_type": "code",
   "execution_count": 66,
   "metadata": {},
   "outputs": [],
   "source": [
    "def cube_sum(x):\n",
    "    sum = 0\n",
    "    cube = x**3\n",
    "    cube = str(cube)\n",
    "    for i in range(len(cube)):\n",
    "        sum = sum + int(cube[i])\n",
    "    return sum\n",
    "\n"
   ]
  },
  {
   "cell_type": "code",
   "execution_count": 80,
   "metadata": {},
   "outputs": [
    {
     "name": "stdout",
     "output_type": "stream",
     "text": [
      "1\n",
      "8\n",
      "17\n",
      "18\n",
      "26\n",
      "27\n"
     ]
    }
   ],
   "source": [
    "test = 0\n",
    "for i in map(cube_sum,range(1,100)):\n",
    "    test = test + 1\n",
    "    if (i == test):\n",
    "        print (i)\n",
    "    "
   ]
  },
  {
   "cell_type": "markdown",
   "metadata": {},
   "source": [
    "#### 10"
   ]
  },
  {
   "cell_type": "code",
   "execution_count": 87,
   "metadata": {},
   "outputs": [
    {
     "name": "stdout",
     "output_type": "stream",
     "text": [
      "8 1\n",
      "1 8\n"
     ]
    }
   ],
   "source": [
    "import random\n",
    "x= random.randint(1,10)\n",
    "y= random.randint(1,10)\n",
    "print (x, y)\n",
    "a = x\n",
    "x = y\n",
    "y = a\n",
    "print (x, y)"
   ]
  },
  {
   "cell_type": "markdown",
   "metadata": {},
   "source": [
    "#### 11"
   ]
  },
  {
   "cell_type": "code",
   "execution_count": 88,
   "metadata": {},
   "outputs": [
    {
     "name": "stdout",
     "output_type": "stream",
     "text": [
      "   *\n",
      "  ***\n",
      " *****\n",
      "*******\n",
      " *****\n",
      "  ***\n",
      "   *\n"
     ]
    }
   ],
   "source": [
    "for i in range(1,5):\n",
    "\tprint (' '*int(4-i) + '*'*int(1+(i-1)*2))\n",
    "for i in range(5,8):\n",
    "\tprint (' '*int(i-4) + '*'*int(7-(i-4)*2))"
   ]
  },
  {
   "cell_type": "markdown",
   "metadata": {},
   "source": [
    "#### 12"
   ]
  },
  {
   "cell_type": "code",
   "execution_count": 95,
   "metadata": {},
   "outputs": [
    {
     "name": "stdout",
     "output_type": "stream",
     "text": [
      "123456\n",
      "234561\n",
      "345612\n",
      "456123\n",
      "561234\n",
      "612345\n"
     ]
    }
   ],
   "source": [
    "arrays = '123456'\n",
    "for i in range(len(arrays)):\n",
    "\tprint (arrays[i:] + arrays[0:i])"
   ]
  },
  {
   "cell_type": "markdown",
   "metadata": {},
   "source": [
    "#### 13"
   ]
  },
  {
   "cell_type": "code",
   "execution_count": 97,
   "metadata": {},
   "outputs": [
    {
     "name": "stdout",
     "output_type": "stream",
     "text": [
      "Charles Martina Michael Florence Eli "
     ]
    }
   ],
   "source": [
    "players = ['charles','martina','michael','florence','eli']\n",
    "for i in players:\n",
    "\tprint (i.title(),end=' ')"
   ]
  }
 ],
 "metadata": {
  "kernelspec": {
   "display_name": "Python 3",
   "language": "python",
   "name": "python3"
  },
  "language_info": {
   "codemirror_mode": {
    "name": "ipython",
    "version": 3
   },
   "file_extension": ".py",
   "mimetype": "text/x-python",
   "name": "python",
   "nbconvert_exporter": "python",
   "pygments_lexer": "ipython3",
   "version": "3.6.5"
  }
 },
 "nbformat": 4,
 "nbformat_minor": 2
}
